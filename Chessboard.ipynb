{
  "nbformat": 4,
  "nbformat_minor": 0,
  "metadata": {
    "colab": {
      "name": "Chessboard.ipynb",
      "provenance": [],
      "authorship_tag": "ABX9TyNbxKVqVF6zU++cXS2UVkW0",
      "include_colab_link": true
    },
    "kernelspec": {
      "name": "python3",
      "display_name": "Python 3"
    }
  },
  "cells": [
    {
      "cell_type": "markdown",
      "metadata": {
        "id": "view-in-github",
        "colab_type": "text"
      },
      "source": [
        "<a href=\"https://colab.research.google.com/github/liquidcarbon/PubMed-XML-Parser/blob/master/Chessboard.ipynb\" target=\"_parent\"><img src=\"https://colab.research.google.com/assets/colab-badge.svg\" alt=\"Open In Colab\"/></a>"
      ]
    },
    {
      "cell_type": "code",
      "metadata": {
        "id": "TjDsjXyu0smO",
        "colab_type": "code",
        "colab": {
          "base_uri": "https://localhost:8080/",
          "height": 269
        },
        "outputId": "1596f472-7819-4334-fedc-adb0adb188ef"
      },
      "source": [
        "import matplotlib.pyplot as plt\n",
        "import numpy as np\n",
        "import pandas as pd\n",
        "\n",
        "chess = plt.imshow(np.array([1,0]*36).reshape(8,9)[:,:8], cmap='gray')\n",
        "chess.axes.xaxis.set_ticks(range(8))\n",
        "chess.axes.xaxis.set_ticklabels(['A', 'B', 'C', 'D', 'E', 'F', 'G', 'H'], fontsize=14)\n",
        "chess.axes.yaxis.set_ticklabels(['','8', '7', '6', '5', '4', '3', '2', '1'], fontsize=14)\n",
        "plt.show()"
      ],
      "execution_count": 1,
      "outputs": [
        {
          "output_type": "display_data",
          "data": {
            "image/png": "[encoded data removed]",
            "text/plain": [
              "<Figure size 432x288 with 1 Axes>"
            ]
          },
          "metadata": {
            "tags": [],
            "needs_background": "light"
          }
        }
      ]
    }
  ]
}